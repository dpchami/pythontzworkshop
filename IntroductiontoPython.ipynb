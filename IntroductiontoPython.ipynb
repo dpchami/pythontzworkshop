{
 "cells": [
  {
   "cell_type": "markdown",
   "metadata": {},
   "source": [
    "# Why Learn to code"
   ]
  },
  {
   "cell_type": "markdown",
   "metadata": {},
   "source": [
    " Software and technology are becoming increasingly integrated into our\n",
    "everyday lives, allowing us to accomplish tasks, navigate to destinations,\n",
    "make purchases, and stay connected with friends.\n",
    "\n",
    "\n",
    " While some may choose to study computer science as part\n",
    "of their formal education, everyone can benefit from an understanding of\n",
    "algorithmic thinking and computational processes. Learning how the\n",
    "software that we use on a daily basis is made can allow us as end users to\n",
    "evaluate how and why these applications are developed, enabling us to\n",
    "think critically about these tools and how to improve them.\n",
    "\n",
    " While not everyone needs to learn to code\n",
    "complex programs, learning how coding works can help shape the future\n",
    "of technology and increase the number of stakeholders, decision makers,\n",
    "and knowledge producers who can work to build better software for\n",
    "everyone.\n",
    "\n",
    "  Computer programming provides many applications across\n",
    "domains, and can help us solve problems in specialities such as medicine,\n",
    "economics, sociology, history, and literature, to name a few. By\n",
    "integrating technology’s methodologies into our own fields, we can\n",
    "leverage computational logic and software design and development\n",
    "practices in our work."
   ]
  },
  {
   "cell_type": "markdown",
   "metadata": {},
   "source": [
    "# Why Learn Python"
   ]
  },
  {
   "cell_type": "markdown",
   "metadata": {},
   "source": [
    "Extremely versatile and popular among developers, Python is a good\n",
    "general-purpose language that can be used in a variety of applications.\n",
    "For those with an understanding of English, Python is a very humanreadable\n",
    "programming language, allowing for quick comprehension.\n",
    "\n",
    "Because Python supports multiple styles including scripting and objectoriented\n",
    "programming, it is considered to be a multi-paradigm language\n",
    "that enables programmers to use the most suitable style to complete a\n",
    "project.\n",
    "\n",
    "Increasingly used in industry, Python offers a lot of potential for\n",
    "those who would like to begin coding while also being a good choice for\n",
    "those looking to pick up an additional programming language."
   ]
  },
  {
   "cell_type": "markdown",
   "metadata": {},
   "source": [
    "# Python Installation and Develepment Enviroment"
   ]
  },
  {
   "cell_type": "markdown",
   "metadata": {},
   "source": [
    "Python Installation:you can download and install python in your favorite os from official python website;python.org\n",
    "Python Ide's & Text Editors..\n",
    "Pycharm,Sublime,VScode,Atom...My favorite juypter notebooks.\n",
    "You can install python from anaconda distribution"
   ]
  },
  {
   "cell_type": "markdown",
   "metadata": {},
   "source": [
    "# Python 2 vs Python 3 Practical considerations"
   ]
  },
  {
   "cell_type": "markdown",
   "metadata": {},
   "source": [
    "Python 2\n",
    "Published in late 2000, Python 2 signalled a more transparent and\n",
    "inclusive language development process than earlier versions of Python\n",
    "with the implementation of PEP (Python Enhancement Proposal), a\n",
    "technical specification that either provides information to Python\n",
    "community members or describes a new feature of the language.\n",
    "\n",
    "Additionally, Python 2 included many more programmatic features\n",
    "including a cycle-detecting garbage collector to automate memory\n",
    "management, increased Unicode support to standardize characters, and\n",
    "list comprehensions to create a list based on existing lists. As Python 2\n",
    "continued to develop, more features were added, including unifying\n",
    "Python’s types and classes into one hierarchy in Python version 2.2."
   ]
  },
  {
   "cell_type": "markdown",
   "metadata": {},
   "source": [
    "Python 3 is regarded as the future of Python and is the version of the\n",
    "language that is currently in development. A major overhaul, Python 3\n",
    "was released in late 2008 to address and amend intrinsic design flaws of\n",
    "previous versions of the language. The focus of Python 3 development\n",
    "was to clean up the codebase and remove redundancy, making it clear\n",
    "that there was only one way to perform a given task.\n",
    "\n",
    "  Major modifications to Python 3.0 included changing the print\n",
    "statement into a built-in function, improve the way integers are divided,\n",
    "and providing more Unicode support."
   ]
  },
  {
   "cell_type": "markdown",
   "metadata": {},
   "source": [
    "### Key Differences"
   ]
  },
  {
   "cell_type": "markdown",
   "metadata": {},
   "source": [
    "Print   \n",
    "Python 2 print is treated as a statment but in Python 3 print is treated as function."
   ]
  },
  {
   "cell_type": "code",
   "execution_count": 6,
   "metadata": {},
   "outputs": [
    {
     "name": "stdout",
     "output_type": "stream",
     "text": [
      "My name is Prosperity\n"
     ]
    }
   ],
   "source": [
    "#print in python 2 \n",
    "\n",
    "#print\"My name is Prosperity\"\n",
    "#print in python 3\n",
    "\n",
    "print('My name is Prosperity')\n"
   ]
  },
  {
   "cell_type": "markdown",
   "metadata": {},
   "source": [
    "  Division with Integers\n",
    "  \n",
    "  In Python 3, integer division became more intuitive, as in:\n"
   ]
  },
  {
   "cell_type": "code",
   "execution_count": 7,
   "metadata": {},
   "outputs": [
    {
     "name": "stdout",
     "output_type": "stream",
     "text": [
      "2.5\n"
     ]
    }
   ],
   "source": [
    "a = 5 / 2\n",
    "print(a)"
   ]
  },
  {
   "cell_type": "markdown",
   "metadata": {},
   "source": [
    "In Python 2, any number that you type without decimals is treated as the\n",
    "programming type called integer. While at first glance this seems like an\n",
    "easy way to handle programming types, when you try to divide integers\n",
    "together sometimes you expect to get an answer with decimal places\n",
    "(called a float), as in:\n",
    "\n",
    "5 / 2 = 2.5\n",
    "\n",
    "However, in Python 2 integers were strongly typed and would not\n",
    "change to a float with decimal places even in cases when that would\n",
    "make intuitive sense.\n",
    "\n",
    "When the two numbers on either side of the division / symbol are\n",
    "integers, Python 2 does floor division so that for the quotient x the\n",
    "number returned is the largest integer less than or equal to x.\n",
    "\n",
    "This means\n",
    "that when you write 5 / 2 \n",
    "to divide the two numbers, Python 2.7\n",
    "returns the largest integer less than or equal to 2.5, in this case 2:\n",
    "\n",
    "a = 5 / 2\n",
    "print a   \n",
    "output 2"
   ]
  },
  {
   "cell_type": "code",
   "execution_count": null,
   "metadata": {},
   "outputs": [],
   "source": []
  }
 ],
 "metadata": {
  "kernelspec": {
   "display_name": "Python 3",
   "language": "python",
   "name": "python3"
  },
  "language_info": {
   "codemirror_mode": {
    "name": "ipython",
    "version": 3
   },
   "file_extension": ".py",
   "mimetype": "text/x-python",
   "name": "python",
   "nbconvert_exporter": "python",
   "pygments_lexer": "ipython3",
   "version": "3.6.5"
  }
 },
 "nbformat": 4,
 "nbformat_minor": 2
}
