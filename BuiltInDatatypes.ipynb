{
 "cells": [
  {
   "cell_type": "markdown",
   "metadata": {},
   "source": [
    "# Python Built in Data Types\n"
   ]
  },
  {
   "cell_type": "markdown",
   "metadata": {},
   "source": [
    "### Numbers"
   ]
  },
  {
   "cell_type": "markdown",
   "metadata": {},
   "source": [
    "Any number you enter in Python will be interpreted as a number; you\n",
    "are not required to declare what kind of data type you are entering.\n",
    "\n",
    "Python will consider any number written without decimals as an integer\n",
    "(as in 138) and any number written with decimals as a float (as in\n",
    "138.0)."
   ]
  },
  {
   "cell_type": "markdown",
   "metadata": {},
   "source": [
    "#### Intergers"
   ]
  },
  {
   "cell_type": "markdown",
   "metadata": {},
   "source": [
    "Like in math, integers in computer programming are whole numbers that\n",
    "can be positive, negative, or 0 (…, -1, 0, 1, …).\n",
    "\n",
    "An integer can also be\n",
    "known as an int. \n",
    "As with other programming languages, you should\n",
    "not use commas in numbers of four digits or more, so when you write\n",
    "1,000 in your program, write it as 1000.\n",
    "We can print out an integer in a simple way like this:"
   ]
  },
  {
   "cell_type": "code",
   "execution_count": 6,
   "metadata": {},
   "outputs": [
    {
     "name": "stdout",
     "output_type": "stream",
     "text": [
      "-25\n",
      "-2\n",
      "48\n"
     ]
    }
   ],
   "source": [
    "print(-25)\n",
    "my_int = -2\n",
    "print(my_int)\n",
    "#we can do math with inergers\n",
    "int_ans = 116 - 68\n",
    "print(int_ans)"
   ]
  },
  {
   "cell_type": "markdown",
   "metadata": {},
   "source": [
    "#### Floating-Point Numbers"
   ]
  },
  {
   "cell_type": "markdown",
   "metadata": {},
   "source": [
    "A floating-point number or a float is a real number, meaning that it can\n",
    "be either a rational or an irrational number.\n",
    "Because of this, floating-point\n",
    "numbers can be numbers that can contain a fractional part, such as 9.0\n",
    "or -116.42. \n",
    "Simply speaking, for the purposes of thinking of a float in\n",
    "a Python program, it is a number that contains a decimal point.\n",
    "Like we did with the integer, we can print out a floating-point number\n",
    "in a simple way like this:"
   ]
  },
  {
   "cell_type": "code",
   "execution_count": 7,
   "metadata": {},
   "outputs": [
    {
     "name": "stdout",
     "output_type": "stream",
     "text": [
      "17.3\n"
     ]
    }
   ],
   "source": [
    "print(17.3)"
   ]
  },
  {
   "cell_type": "markdown",
   "metadata": {},
   "source": [
    "#### Booleans"
   ]
  },
  {
   "cell_type": "markdown",
   "metadata": {},
   "source": [
    "The Boolean data type can be one of two values, either True or False.\n",
    "Booleans are used to represent the truth values that are associated with\n",
    "the logic branch of mathematics, which informs algorithms in computer\n",
    "science."
   ]
  },
  {
   "cell_type": "code",
   "execution_count": 14,
   "metadata": {},
   "outputs": [
    {
     "name": "stdout",
     "output_type": "stream",
     "text": [
      "True\n",
      "False\n",
      "True\n"
     ]
    }
   ],
   "source": [
    "#greater than\n",
    "print(500 > 100) \n",
    "#greater than\n",
    "print(1 > 5)\n",
    "#equal\n",
    "print(5==5)"
   ]
  },
  {
   "cell_type": "markdown",
   "metadata": {},
   "source": [
    "# Strings"
   ]
  },
  {
   "cell_type": "markdown",
   "metadata": {},
   "source": [
    "A string is a sequence of one or more characters (letters, numbers,\n",
    "symbols) that can be either a constant or a variable. Strings exist within\n",
    "either single quotes ' or double quotes \" in Python, so to create a string,\n",
    "enclose a sequence of characters in quotes:\n"
   ]
  },
  {
   "cell_type": "code",
   "execution_count": 15,
   "metadata": {},
   "outputs": [
    {
     "name": "stdout",
     "output_type": "stream",
     "text": [
      "Hello, World!\n"
     ]
    }
   ],
   "source": [
    "hw = \"Hello, World!\"\n",
    "print(hw)"
   ]
  },
  {
   "cell_type": "markdown",
   "metadata": {},
   "source": [
    "## Lists"
   ]
  },
  {
   "cell_type": "markdown",
   "metadata": {},
   "source": [
    "A list is a mutable, or changeable, ordered sequence of elements. Each\n",
    "element or value that is inside of a list is called an item. Just as strings are\n",
    "defined as characters between quotes, lists are defined by having values\n",
    "between square brackets [ ]."
   ]
  },
  {
   "cell_type": "code",
   "execution_count": 22,
   "metadata": {},
   "outputs": [],
   "source": [
    "N =[3.14, 9.23, 111.11, 312.12, 1.05]\n",
    "S =['shark', 'cuttlefish', 'squid', 'mantis shrimp']"
   ]
  },
  {
   "cell_type": "markdown",
   "metadata": {},
   "source": [
    "## Tuples"
   ]
  },
  {
   "cell_type": "markdown",
   "metadata": {},
   "source": [
    "A tuple is used for grouping data. It is an immutable, or unchangeable,\n",
    "ordered sequence of elements.\n",
    "\n",
    "Tuples are very similar to lists, but they use parentheses ( ) instead of\n",
    "square brackets and because they are immutable their values cannot be\n",
    "modified.\n",
    "A tuple looks like this:"
   ]
  },
  {
   "cell_type": "code",
   "execution_count": 25,
   "metadata": {},
   "outputs": [],
   "source": [
    "s=('blue coral', 'staghorn coral', 'pillar coral')\n"
   ]
  },
  {
   "cell_type": "code",
   "execution_count": 27,
   "metadata": {},
   "outputs": [
    {
     "name": "stdout",
     "output_type": "stream",
     "text": [
      "('blue coral', 'staghorn coral', 'pillar,coral')\n"
     ]
    }
   ],
   "source": [
    "coral = ('blue coral', 'staghorn coral', 'pillar,coral')\n",
    "print(coral)\n"
   ]
  },
  {
   "cell_type": "markdown",
   "metadata": {},
   "source": [
    "## Dictionaries\n"
   ]
  },
  {
   "cell_type": "markdown",
   "metadata": {},
   "source": [
    "The dictionary is Python’s built-in mapping type. This means that\n",
    "dictionaries map keys to values and these key-value pairs are a useful\n",
    "way to store data in Python. A dictionary is constructed with curly braces\n",
    "on either side { }.\n"
   ]
  },
  {
   "cell_type": "code",
   "execution_count": 29,
   "metadata": {},
   "outputs": [],
   "source": [
    "D = {'name': 'Sammy', 'animal': 'shark', 'color': 'blue','location': 'ocean'}"
   ]
  },
  {
   "cell_type": "code",
   "execution_count": null,
   "metadata": {},
   "outputs": [],
   "source": []
  }
 ],
 "metadata": {
  "kernelspec": {
   "display_name": "Python 3",
   "language": "python",
   "name": "python3"
  },
  "language_info": {
   "codemirror_mode": {
    "name": "ipython",
    "version": 3
   },
   "file_extension": ".py",
   "mimetype": "text/x-python",
   "name": "python",
   "nbconvert_exporter": "python",
   "pygments_lexer": "ipython3",
   "version": "3.6.5"
  }
 },
 "nbformat": 4,
 "nbformat_minor": 2
}
