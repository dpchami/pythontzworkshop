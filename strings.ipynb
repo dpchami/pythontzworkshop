{
 "cells": [
  {
   "cell_type": "markdown",
   "metadata": {},
   "source": [
    "## Working with Strings\n"
   ]
  },
  {
   "cell_type": "markdown",
   "metadata": {},
   "source": [
    "### Creating and Printing Strings\n"
   ]
  },
  {
   "cell_type": "markdown",
   "metadata": {},
   "source": [
    "Strings exist within either single quotes ' or double quotes \" in Python,\n",
    "so to create a string, enclose a sequence of characters in one or the other:\n"
   ]
  },
  {
   "cell_type": "code",
   "execution_count": 3,
   "metadata": {},
   "outputs": [
    {
     "name": "stdout",
     "output_type": "stream",
     "text": [
      "Let's print out this string.\n"
     ]
    }
   ],
   "source": [
    "'This is a string in single quotes.'\n",
    "\"This is a string in double quotes.\"\n",
    "print(\"Let's print out this string.\")\n"
   ]
  },
  {
   "cell_type": "markdown",
   "metadata": {},
   "source": [
    "### String Concatenation\n"
   ]
  },
  {
   "cell_type": "markdown",
   "metadata": {},
   "source": [
    "Concatenation means joining strings together end-to-end to create a new\n",
    "string. To concatenate strings, we use the + operator. Keep in mind that\n",
    "when we work with numbers, + will be an operator for addition, but\n",
    "when used with strings it is a joining operator.\n",
    "Let’s combine the strings \"Sammy\" and \"Shark\" together with\n",
    "concatenation through a print() statement:\n",
    "\n"
   ]
  },
  {
   "cell_type": "code",
   "execution_count": 5,
   "metadata": {},
   "outputs": [
    {
     "name": "stdout",
     "output_type": "stream",
     "text": [
      "SammyShark\n"
     ]
    }
   ],
   "source": [
    "print(\"Sammy\" + \"Shark\")"
   ]
  },
  {
   "cell_type": "markdown",
   "metadata": {},
   "source": [
    "### String Replication\n"
   ]
  },
  {
   "cell_type": "markdown",
   "metadata": {},
   "source": [
    "There may be times when you need to use Python to automate tasks, and\n",
    "one way you may do this is through repeating a string several times.You\n",
    "can do so with the * operator. Like the + operator, the * operator has a\n",
    "different use when used with numbers, where it is the operator for\n",
    "multiplication. When used with one string and one integer, * is the string\n",
    "replication operator, repeating a single string however many times you\n",
    "would like through the integer you provide."
   ]
  },
  {
   "cell_type": "code",
   "execution_count": 6,
   "metadata": {},
   "outputs": [
    {
     "name": "stdout",
     "output_type": "stream",
     "text": [
      "SammySammySammySammySammySammySammySammySammy\n"
     ]
    }
   ],
   "source": [
    "#Let’s print out “Sammy” 9 times without typing out “Sammy” 9 times with the * operator:\n",
    "print(\"Sammy\" * 9)"
   ]
  },
  {
   "cell_type": "markdown",
   "metadata": {},
   "source": [
    "### Storing Strings in Variables\n"
   ]
  },
  {
   "cell_type": "markdown",
   "metadata": {},
   "source": [
    "Variables are symbols that you can use to store data in a program. You\n",
    "can think of them as an empty box that you fill with some data or value.\n",
    "Strings are data, so we can use them to fill up a variable. Declaring\n",
    "strings as variables can make it easier for us to work with strings\n",
    "throughout our Python programs.\n"
   ]
  },
  {
   "cell_type": "code",
   "execution_count": 8,
   "metadata": {},
   "outputs": [
    {
     "name": "stdout",
     "output_type": "stream",
     "text": [
      "Sammy likes declaring strings.\n"
     ]
    }
   ],
   "source": [
    "my_str = \"Sammy likes declaring strings.\"\n",
    "print(my_str)"
   ]
  },
  {
   "cell_type": "markdown",
   "metadata": {},
   "source": [
    "## String Formating"
   ]
  },
  {
   "cell_type": "markdown",
   "metadata": {},
   "source": [
    "### String Literals"
   ]
  },
  {
   "cell_type": "markdown",
   "metadata": {},
   "source": [
    "Let’s first differentiate between a string literal and a string value. A string\n",
    "literal is what we see in the source code of a computer program,\n",
    "including the quotation marks. A string value is what we see when we\n",
    "call the print() function and run the program."
   ]
  },
  {
   "cell_type": "markdown",
   "metadata": {},
   "source": [
    "In the “Hello, World!” program, the string literal is \"Hello,\n",
    "World!\" while the string value is Hello, World! without the\n",
    "quotation marks. The string value is what we see as the output in a\n",
    "terminal window when we run a Python program."
   ]
  },
  {
   "cell_type": "markdown",
   "metadata": {},
   "source": [
    "Quotes and Apostrophes"
   ]
  },
  {
   "cell_type": "markdown",
   "metadata": {},
   "source": [
    "Because we can use single quotes or double quotes within Python, it is\n",
    "simple to embed quotes within a string by using double quotes within a\n",
    "string enclosed by single quotes:"
   ]
  },
  {
   "cell_type": "code",
   "execution_count": 11,
   "metadata": {},
   "outputs": [
    {
     "name": "stdout",
     "output_type": "stream",
     "text": [
      "Sammy says, \"Hello!\"\n"
     ]
    }
   ],
   "source": [
    "m='Sammy says, \"Hello!\"'\n",
    "print(m)\n"
   ]
  },
  {
   "cell_type": "markdown",
   "metadata": {},
   "source": [
    "Multiple Lines\n",
    "Printing strings on multiple lines can make text more readable to\n",
    "humans. With multiple lines, strings can be grouped into clean and\n",
    "orderly text, formatted as a letter, or used to maintain the linebreaks of a\n",
    "poem or song lyrics.\n",
    "To create strings that span multiple lines, triple single quotes ''' or\n",
    "triple double quotes \"\"\" are used to enclose the string.\n"
   ]
  },
  {
   "cell_type": "code",
   "execution_count": 12,
   "metadata": {},
   "outputs": [
    {
     "data": {
      "text/plain": [
       "'\\nThis string is on\\nmultiple lines\\nwithin three single\\nquotes on either side.\\n'"
      ]
     },
     "execution_count": 12,
     "metadata": {},
     "output_type": "execute_result"
    }
   ],
   "source": [
    "'''\n",
    "This string is on\n",
    "multiple lines\n",
    "within three single\n",
    "quotes on either side.\n",
    "'''"
   ]
  },
  {
   "cell_type": "markdown",
   "metadata": {},
   "source": [
    "Another way to format strings is to use an escape character. Escape\n",
    "characters all start with the backslash key ( \\ ) combined with another\n",
    "character within a string to format the given string a certain way."
   ]
  },
  {
   "cell_type": "markdown",
   "metadata": {},
   "source": [
    "Let’s use an escape character to add the quotation marks to the\n",
    "example on quotation marks above, but this time we’ll use double\n",
    "quotes:"
   ]
  },
  {
   "cell_type": "code",
   "execution_count": 13,
   "metadata": {},
   "outputs": [
    {
     "name": "stdout",
     "output_type": "stream",
     "text": [
      "Sammy says, \"Hello!\"\n"
     ]
    }
   ],
   "source": [
    "print(\"Sammy says, \\\"Hello!\\\"\")"
   ]
  },
  {
   "cell_type": "code",
   "execution_count": 14,
   "metadata": {},
   "outputs": [
    {
     "name": "stdout",
     "output_type": "stream",
     "text": [
      "Sammy's balloon is red.\n"
     ]
    }
   ],
   "source": [
    "print('Sammy\\'s balloon is red.')\n"
   ]
  },
  {
   "cell_type": "code",
   "execution_count": null,
   "metadata": {},
   "outputs": [],
   "source": []
  }
 ],
 "metadata": {
  "kernelspec": {
   "display_name": "Python 3",
   "language": "python",
   "name": "python3"
  },
  "language_info": {
   "codemirror_mode": {
    "name": "ipython",
    "version": 3
   },
   "file_extension": ".py",
   "mimetype": "text/x-python",
   "name": "python",
   "nbconvert_exporter": "python",
   "pygments_lexer": "ipython3",
   "version": "3.6.5"
  }
 },
 "nbformat": 4,
 "nbformat_minor": 2
}
